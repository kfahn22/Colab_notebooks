{
  "nbformat": 4,
  "nbformat_minor": 0,
  "metadata": {
    "colab": {
      "provenance": [],
      "authorship_tag": "ABX9TyPGL+8M+0HYttqgmaNR7Fyy",
      "include_colab_link": true
    },
    "kernelspec": {
      "name": "python3",
      "display_name": "Python 3"
    },
    "language_info": {
      "name": "python"
    }
  },
  "cells": [
    {
      "cell_type": "markdown",
      "metadata": {
        "id": "view-in-github",
        "colab_type": "text"
      },
      "source": [
        "<a href=\"https://colab.research.google.com/github/kfahn22/Colab_notebooks/blob/main/ulam_spiral.ipynb\" target=\"_parent\"><img src=\"https://colab.research.google.com/assets/colab-badge.svg\" alt=\"Open In Colab\"/></a>"
      ]
    },
    {
      "cell_type": "markdown",
      "source": [
        "## Ulam spiral\n",
        "\n",
        "The ulam spiral code is adapted from [here](https://github.com/scipython/scipython-maths/blob/master/prime_visualizations/ulam_spiral.py)\n",
        "\n",
        "[Blog by Christian Hill](https://scipython.com/blog/the-ulam-spiral/)\n",
        "\n",
        "Another implementation by Stanislav Fort can be obtained [here](https://github.com/stanislavfort/ulam-spiral/blob/master/ulam-spiral-generator.py)."
      ],
      "metadata": {
        "id": "tEoStrGTaCSu"
      }
    },
    {
      "cell_type": "markdown",
      "source": [
        "I wrote a function to create a random color palette."
      ],
      "metadata": {
        "id": "uEtzZmRxEU1Y"
      }
    },
    {
      "cell_type": "code",
      "source": [
        "import random\n",
        "import matplotlib.colors as mcolors\n",
        "\n",
        "# Define new colormap\n",
        "import matplotlib.pyplot as plt\n",
        "import numpy as np\n",
        "\n",
        "from matplotlib.colors import LinearSegmentedColormap\n",
        "colors1 = mcolors.CSS4_COLORS\n",
        "colors2 = mcolors.XKCD_COLORS\n",
        "\n",
        "def make_colormap(n_bins, color_choices=None):\n",
        "    \"\"\"Return a LinearSegmentedColormap\n",
        "    color1 and color2 are the two colors that are interpolated between\n",
        "    n_bins: Discretizes the interpolation into bins\n",
        "    \"\"\"\n",
        "    if color_choices is None:\n",
        "        colors = colors2\n",
        "    color_name1 = random.choice(list(colors.keys()))\n",
        "    color_name2 = random.choice(list(colors.keys()))\n",
        "    color1 = colors[color_name1]\n",
        "    color2 = colors[color_name2]\n",
        "    cmap_name = color_name1 + '/' + color_name2\n",
        "    color_choices = [color1, color2]\n",
        "    for n_bin in range(n_bins):\n",
        "      cmap = LinearSegmentedColormap.from_list(cmap_name, color_choices, N=n_bin)\n",
        "    return cmap, color_name1, color_name2"
      ],
      "metadata": {
        "id": "snGizLsLxlYP"
      },
      "execution_count": 2,
      "outputs": []
    },
    {
      "cell_type": "markdown",
      "source": [
        "Code to create the ulam spiral, adapted to add color."
      ],
      "metadata": {
        "id": "-o1cjQP4Ec1a"
      }
    },
    {
      "cell_type": "code",
      "source": [
        "import numpy as np\n",
        "import matplotlib.pyplot as plt\n",
        "import matplotlib.cm as cm\n",
        "\n",
        "# Visualize prime numbers as an \"Ulam spiral\"\n",
        "# The maths behind this code is described in the scipython blog\n",
        "# article at https://scipython.com/blog/the-ulam-spiral/\n",
        "# Christian Hill, October 2016.\n",
        "\n",
        "def make_spiral(arr):\n",
        "    nrows, ncols= arr.shape\n",
        "    idx = np.arange(nrows*ncols).reshape(nrows,ncols)[::-1]\n",
        "    spiral_idx = []\n",
        "    while idx.size:\n",
        "        spiral_idx.append(idx[0])\n",
        "        # Remove the first row (the one we've just appended to spiral).\n",
        "        idx = idx[1:]\n",
        "        # Rotate the rest of the array anticlockwise\n",
        "        idx = idx.T[::-1]\n",
        "    # Make a flat array of indices spiralling into the array.\n",
        "    spiral_idx = np.hstack(spiral_idx)\n",
        "    # Index into a flattened version of our target array with spiral indices.\n",
        "    spiral = np.empty_like(arr)\n",
        "    spiral.flat[spiral_idx] = arr.flat[::-1]\n",
        "    return spiral\n",
        "\n",
        "# edge size of the square array.\n",
        "#w = 251\n",
        "w = 49\n",
        "# Prime numbers up to and including w**2.\n",
        "primes = np.array([n for n in range(2,w**2+1) if all(\n",
        "                        (n % m) != 0 for m in range(2,int(np.sqrt(n))+1))])\n",
        "# Create an array of boolean values: 1 for prime, 0 for composite\n",
        "arr = np.zeros(w**2, dtype='u1')\n",
        "arr[primes-1] = 1\n",
        "# Spiral the values clockwise out from the centre\n",
        "arr = make_spiral(arr.reshape((w,w)))\n",
        "\n",
        "# Generate a random colormap\n",
        "colormap = make_colormap(4)\n",
        "# Extract the colormap and the two colors\n",
        "cmap = colormap[0]\n",
        "c1 = colormap[1]\n",
        "c2 = colormap[2]\n",
        "\n",
        "plt.matshow(arr, cmap=cmap)\n",
        "plt.axis('off')\n",
        "\n",
        "plt.savefig('ulam_spiral.png')\n",
        "plt.show()"
      ],
      "metadata": {
        "colab": {
          "base_uri": "https://localhost:8080/",
          "height": 429
        },
        "id": "snFC27L2_pBD",
        "outputId": "263911ee-4940-46c1-8dae-1b2b467d304e"
      },
      "execution_count": 10,
      "outputs": [
        {
          "output_type": "display_data",
          "data": {
            "text/plain": [
              "<Figure size 480x480 with 1 Axes>"
            ],
            "image/png": "[encoded data removed]"
          },
          "metadata": {}
        }
      ]
    },
    {
      "cell_type": "markdown",
      "source": [
        "Code for the Klauber triangle (also from Christian Hill)."
      ],
      "metadata": {
        "id": "lLjr_8tAEssA"
      }
    },
    {
      "cell_type": "code",
      "source": [
        "import numpy as np\n",
        "import matplotlib.pyplot as plt\n",
        "import matplotlib.cm as cm\n",
        "\n",
        "n = 50\n",
        "ncols = 2*n+1\n",
        "nmax = n**2\n",
        "\n",
        "# Prime numbers up to and including n**2.\n",
        "primes = np.array([n for n in range(2,n**2+1) if all(\n",
        "                        (n % m) != 0 for m in range(2,int(np.sqrt(n))+1))])\n",
        "a = np.zeros(nmax)\n",
        "a[primes-1]=1\n",
        "\n",
        "arr = np.zeros((n, ncols))\n",
        "for i in range(n):\n",
        "    arr[i,(n-i):(n+i+1)] = a[i**2:i**2+2*i+1]\n",
        "\n",
        "# Generate a random colormap\n",
        "colormap = make_colormap(4)\n",
        "# Extract the colormap and the two colors\n",
        "cmap = colormap[0]\n",
        "c1 = colormap[1]\n",
        "c2 = colormap[2]\n",
        "\n",
        "# Plot the array\n",
        "fig, ax = plt.subplots()\n",
        "ax.matshow(arr, cmap=cmap)\n",
        "ax.axis('off')\n",
        "# Ensure the Axes are centred in the figure\n",
        "ax.set_position([0.1,0.1,0.8,0.8])\n",
        "plt.show()"
      ],
      "metadata": {
        "colab": {
          "base_uri": "https://localhost:8080/",
          "height": 310
        },
        "id": "7jgQrjhcAqnh",
        "outputId": "d0899033-d727-4064-8d9b-4a6cff010ad1"
      },
      "execution_count": 9,
      "outputs": [
        {
          "output_type": "display_data",
          "data": {
            "text/plain": [
              "<Figure size 640x480 with 1 Axes>"
            ],
            "image/png": "[encoded data removed]"
          },
          "metadata": {}
        }
      ]
    }
  ]
}