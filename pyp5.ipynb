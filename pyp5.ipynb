{
  "cells": [
    {
      "cell_type": "markdown",
      "metadata": {
        "id": "view-in-github",
        "colab_type": "text"
      },
      "source": [
        "<a href=\"https://colab.research.google.com/github/kfahn22/Colab_notebooks/blob/main/pyp5.ipynb\" target=\"_parent\"><img src=\"https://colab.research.google.com/assets/colab-badge.svg\" alt=\"Open In Colab\"/></a>"
      ]
    },
    {
      "cell_type": "markdown",
      "metadata": {
        "id": "HuQw1ANmhn6g"
      },
      "source": [
        "# Python interpreter for p5.js\n",
        "\n",
        "https://berinhard.github.io/pyp5js/\n",
        "\n",
        "[pyp5js](https://github.com/berinhard/pyp5js)\n",
        "\n",
        "[Examples](https://github.com/berinhard/pyp5js/tree/develop/docs/examples/pyodide)"
      ]
    },
    {
      "cell_type": "code",
      "execution_count": null,
      "metadata": {
        "colab": {
          "base_uri": "https://localhost:8080/"
        },
        "id": "oJkUNyRFnWXQ",
        "outputId": "986a56f3-845b-4332-e028-137cb1224389"
      },
      "outputs": [
        {
          "name": "stdout",
          "output_type": "stream",
          "text": [
            "Collecting pyp5js\n",
            "  Using cached pyp5js-0.7.3-py3-none-any.whl (9.2 MB)\n",
            "Collecting Click==8.0.1 (from pyp5js)\n",
            "  Downloading click-8.0.1-py3-none-any.whl (97 kB)\n",
            "\u001b[2K     \u001b[90m━━━━━━━━━━━━━━━━━━━━━━━━━━━━━━━━━━━━━━━━\u001b[0m \u001b[32m97.4/97.4 kB\u001b[0m \u001b[31m2.7 MB/s\u001b[0m eta \u001b[36m0:00:00\u001b[0m\n",
            "\u001b[?25hCollecting Jinja2==3.1.2 (from pyp5js)\n",
            "  Downloading Jinja2-3.1.2-py3-none-any.whl (133 kB)\n",
            "\u001b[2K     \u001b[90m━━━━━━━━━━━━━━━━━━━━━━━━━━━━━━━━━━━━━━━━\u001b[0m \u001b[32m133.1/133.1 kB\u001b[0m \u001b[31m8.9 MB/s\u001b[0m eta \u001b[36m0:00:00\u001b[0m\n",
            "\u001b[?25hCollecting Transcrypt==3.9.0 (from pyp5js)\n",
            "  Downloading Transcrypt-3.9.0-py2.py3-none-any.whl (42.5 MB)\n",
            "\u001b[2K     \u001b[90m━━━━━━━━━━━━━━━━━━━━━━━━━━━━━━━━━━━━━━━━\u001b[0m \u001b[32m42.5/42.5 MB\u001b[0m \u001b[31m5.4 MB/s\u001b[0m eta \u001b[36m0:00:00\u001b[0m\n",
            "\u001b[?25hCollecting cprint==1.2.2 (from pyp5js)\n",
            "  Downloading cprint-1.2.2.tar.gz (2.3 kB)\n",
            "  Preparing metadata (setup.py) ... \u001b[?25l\u001b[?25hdone\n",
            "Collecting gunicorn==20.1.0 (from pyp5js)\n",
            "  Downloading gunicorn-20.1.0-py3-none-any.whl (79 kB)\n",
            "\u001b[2K     \u001b[90m━━━━━━━━━━━━━━━━━━━━━━━━━━━━━━━━━━━━━━━━\u001b[0m \u001b[32m79.5/79.5 kB\u001b[0m \u001b[31m9.7 MB/s\u001b[0m eta \u001b[36m0:00:00\u001b[0m\n",
            "\u001b[?25hCollecting watchdog==2.1.9 (from pyp5js)\n",
            "  Downloading watchdog-2.1.9-py3-none-manylinux2014_x86_64.whl (78 kB)\n",
            "\u001b[2K     \u001b[90m━━━━━━━━━━━━━━━━━━━━━━━━━━━━━━━━━━━━━━━━\u001b[0m \u001b[32m78.4/78.4 kB\u001b[0m \u001b[31m9.0 MB/s\u001b[0m eta \u001b[36m0:00:00\u001b[0m\n",
            "\u001b[?25hCollecting python-decouple==3.6 (from pyp5js)\n",
            "  Downloading python_decouple-3.6-py3-none-any.whl (9.9 kB)\n",
            "Collecting Flask==2.2.2 (from pyp5js)\n",
            "  Downloading Flask-2.2.2-py3-none-any.whl (101 kB)\n",
            "\u001b[2K     \u001b[90m━━━━━━━━━━━━━━━━━━━━━━━━━━━━━━━━━━━━━━━━\u001b[0m \u001b[32m101.5/101.5 kB\u001b[0m \u001b[31m14.1 MB/s\u001b[0m eta \u001b[36m0:00:00\u001b[0m\n",
            "\u001b[?25hCollecting python-slugify==6.1.2 (from pyp5js)\n",
            "  Downloading python_slugify-6.1.2-py2.py3-none-any.whl (9.4 kB)\n",
            "Collecting markupsafe==2.1.1 (from pyp5js)\n",
            "  Downloading MarkupSafe-2.1.1-cp310-cp310-manylinux_2_17_x86_64.manylinux2014_x86_64.whl (25 kB)\n",
            "Requirement already satisfied: Werkzeug>=2.2.2 in /usr/local/lib/python3.10/dist-packages (from Flask==2.2.2->pyp5js) (3.0.1)\n",
            "Requirement already satisfied: itsdangerous>=2.0 in /usr/local/lib/python3.10/dist-packages (from Flask==2.2.2->pyp5js) (2.1.2)\n",
            "Requirement already satisfied: setuptools>=3.0 in /usr/local/lib/python3.10/dist-packages (from gunicorn==20.1.0->pyp5js) (67.7.2)\n",
            "Requirement already satisfied: text-unidecode>=1.3 in /usr/local/lib/python3.10/dist-packages (from python-slugify==6.1.2->pyp5js) (1.3)\n",
            "Collecting mypy (from Transcrypt==3.9.0->pyp5js)\n",
            "  Downloading mypy-1.8.0-cp310-cp310-manylinux_2_17_x86_64.manylinux2014_x86_64.whl (12.5 MB)\n",
            "\u001b[2K     \u001b[90m━━━━━━━━━━━━━━━━━━━━━━━━━━━━━━━━━━━━━━━━\u001b[0m \u001b[32m12.5/12.5 MB\u001b[0m \u001b[31m83.7 MB/s\u001b[0m eta \u001b[36m0:00:00\u001b[0m\n",
            "\u001b[?25hRequirement already satisfied: typing-extensions>=4.1.0 in /usr/local/lib/python3.10/dist-packages (from mypy->Transcrypt==3.9.0->pyp5js) (4.9.0)\n",
            "Collecting mypy-extensions>=1.0.0 (from mypy->Transcrypt==3.9.0->pyp5js)\n",
            "  Downloading mypy_extensions-1.0.0-py3-none-any.whl (4.7 kB)\n",
            "Requirement already satisfied: tomli>=1.1.0 in /usr/local/lib/python3.10/dist-packages (from mypy->Transcrypt==3.9.0->pyp5js) (2.0.1)\n",
            "Building wheels for collected packages: cprint\n",
            "  Building wheel for cprint (setup.py) ... \u001b[?25l\u001b[?25hdone\n",
            "  Created wheel for cprint: filename=cprint-1.2.2-py3-none-any.whl size=2519 sha256=39ddc9387ec9b905fc0d9493f0ff9b2c3737c5aa26eb4d8b14d997cbfd67026e\n",
            "  Stored in directory: /root/.cache/pip/wheels/e8/c7/77/b74864ee8de3abb693e3be291549a29c6ff242ce66801b1622\n",
            "Successfully built cprint\n",
            "Installing collected packages: python-decouple, cprint, watchdog, python-slugify, mypy-extensions, markupsafe, gunicorn, Click, mypy, Jinja2, Transcrypt, Flask, pyp5js\n",
            "  Attempting uninstall: python-slugify\n",
            "    Found existing installation: python-slugify 8.0.3\n",
            "    Uninstalling python-slugify-8.0.3:\n",
            "      Successfully uninstalled python-slugify-8.0.3\n",
            "  Attempting uninstall: markupsafe\n",
            "    Found existing installation: MarkupSafe 2.1.5\n",
            "    Uninstalling MarkupSafe-2.1.5:\n",
            "      Successfully uninstalled MarkupSafe-2.1.5\n",
            "  Attempting uninstall: Click\n",
            "    Found existing installation: click 8.1.7\n",
            "    Uninstalling click-8.1.7:\n",
            "      Successfully uninstalled click-8.1.7\n",
            "  Attempting uninstall: Jinja2\n",
            "    Found existing installation: Jinja2 3.1.3\n",
            "    Uninstalling Jinja2-3.1.3:\n",
            "      Successfully uninstalled Jinja2-3.1.3\n",
            "  Attempting uninstall: Flask\n",
            "    Found existing installation: Flask 2.2.5\n",
            "    Uninstalling Flask-2.2.5:\n",
            "      Successfully uninstalled Flask-2.2.5\n",
            "\u001b[31mERROR: pip's dependency resolver does not currently take into account all the packages that are installed. This behaviour is the source of the following dependency conflicts.\n",
            "lida 0.0.10 requires fastapi, which is not installed.\n",
            "lida 0.0.10 requires kaleido, which is not installed.\n",
            "lida 0.0.10 requires python-multipart, which is not installed.\n",
            "lida 0.0.10 requires uvicorn, which is not installed.\u001b[0m\u001b[31m\n",
            "\u001b[0mSuccessfully installed Click-8.0.1 Flask-2.2.2 Jinja2-3.1.2 Transcrypt-3.9.0 cprint-1.2.2 gunicorn-20.1.0 markupsafe-2.1.1 mypy-1.8.0 mypy-extensions-1.0.0 pyp5js-0.7.3 python-decouple-3.6 python-slugify-6.1.2 watchdog-2.1.9\n"
          ]
        }
      ],
      "source": [
        "!pip install pyp5js"
      ]
    },
    {
      "cell_type": "code",
      "source": [
        "!git clone https://github.com/berinhard/pyp5js.git\n"
      ],
      "metadata": {
        "colab": {
          "base_uri": "https://localhost:8080/"
        },
        "id": "dPFKKkxQ009X",
        "outputId": "39125eec-9dd3-481f-969b-cfdba2ef3c1d"
      },
      "execution_count": 1,
      "outputs": [
        {
          "output_type": "stream",
          "name": "stdout",
          "text": [
            "Cloning into 'pyp5js'...\n",
            "remote: Enumerating objects: 5500, done.\u001b[K\n",
            "remote: Counting objects: 100% (457/457), done.\u001b[K\n",
            "remote: Compressing objects: 100% (148/148), done.\u001b[K\n",
            "remote: Total 5500 (delta 339), reused 365 (delta 299), pack-reused 5043\u001b[K\n",
            "Receiving objects: 100% (5500/5500), 10.41 MiB | 13.64 MiB/s, done.\n",
            "Resolving deltas: 100% (3486/3486), done.\n"
          ]
        }
      ]
    },
    {
      "cell_type": "code",
      "source": [
        "%cd pyp5js"
      ],
      "metadata": {
        "colab": {
          "base_uri": "https://localhost:8080/"
        },
        "id": "9t3v1-VU10Lx",
        "outputId": "fcef4a4a-44a5-4dc5-d41e-5fef8639bff9"
      },
      "execution_count": 2,
      "outputs": [
        {
          "output_type": "stream",
          "name": "stdout",
          "text": [
            "/content/pyp5js\n"
          ]
        }
      ]
    },
    {
      "cell_type": "code",
      "source": [
        "!pip install -r requirements.txt"
      ],
      "metadata": {
        "colab": {
          "base_uri": "https://localhost:8080/"
        },
        "id": "hNSIXhj912wJ",
        "outputId": "b5932f4e-6daa-4372-a7c6-5654ee6689e6"
      },
      "execution_count": 3,
      "outputs": [
        {
          "output_type": "stream",
          "name": "stdout",
          "text": [
            "Collecting Click==8.0.1 (from -r requirements.txt (line 1))\n",
            "  Downloading click-8.0.1-py3-none-any.whl (97 kB)\n",
            "\u001b[?25l     \u001b[90m━━━━━━━━━━━━━━━━━━━━━━━━━━━━━━━━━━━━━━━━\u001b[0m \u001b[32m0.0/97.4 kB\u001b[0m \u001b[31m?\u001b[0m eta \u001b[36m-:--:--\u001b[0m\r\u001b[2K     \u001b[91m━━━━━━━━━━━━━━━━━━━━━━━━━━━━━━━━━━━━━\u001b[0m\u001b[91m╸\u001b[0m\u001b[90m━━\u001b[0m \u001b[32m92.2/97.4 kB\u001b[0m \u001b[31m3.1 MB/s\u001b[0m eta \u001b[36m0:00:01\u001b[0m\r\u001b[2K     \u001b[90m━━━━━━━━━━━━━━━━━━━━━━━━━━━━━━━━━━━━━━━━\u001b[0m \u001b[32m97.4/97.4 kB\u001b[0m \u001b[31m2.4 MB/s\u001b[0m eta \u001b[36m0:00:00\u001b[0m\n",
            "\u001b[?25hCollecting Jinja2==3.1.2 (from -r requirements.txt (line 2))\n",
            "  Downloading Jinja2-3.1.2-py3-none-any.whl (133 kB)\n",
            "\u001b[2K     \u001b[90m━━━━━━━━━━━━━━━━━━━━━━━━━━━━━━━━━━━━━━━━\u001b[0m \u001b[32m133.1/133.1 kB\u001b[0m \u001b[31m6.9 MB/s\u001b[0m eta \u001b[36m0:00:00\u001b[0m\n",
            "\u001b[?25hCollecting Transcrypt==3.9.0 (from -r requirements.txt (line 3))\n",
            "  Downloading Transcrypt-3.9.0-py2.py3-none-any.whl (42.5 MB)\n",
            "\u001b[2K     \u001b[90m━━━━━━━━━━━━━━━━━━━━━━━━━━━━━━━━━━━━━━━━\u001b[0m \u001b[32m42.5/42.5 MB\u001b[0m \u001b[31m2.7 MB/s\u001b[0m eta \u001b[36m0:00:00\u001b[0m\n",
            "\u001b[?25hCollecting cprint==1.2.2 (from -r requirements.txt (line 4))\n",
            "  Downloading cprint-1.2.2.tar.gz (2.3 kB)\n",
            "  Preparing metadata (setup.py) ... \u001b[?25l\u001b[?25hdone\n",
            "Collecting gunicorn==20.1.0 (from -r requirements.txt (line 5))\n",
            "  Downloading gunicorn-20.1.0-py3-none-any.whl (79 kB)\n",
            "\u001b[2K     \u001b[90m━━━━━━━━━━━━━━━━━━━━━━━━━━━━━━━━━━━━━━━━\u001b[0m \u001b[32m79.5/79.5 kB\u001b[0m \u001b[31m8.3 MB/s\u001b[0m eta \u001b[36m0:00:00\u001b[0m\n",
            "\u001b[?25hCollecting watchdog==2.1.9 (from -r requirements.txt (line 6))\n",
            "  Downloading watchdog-2.1.9-py3-none-manylinux2014_x86_64.whl (78 kB)\n",
            "\u001b[2K     \u001b[90m━━━━━━━━━━━━━━━━━━━━━━━━━━━━━━━━━━━━━━━━\u001b[0m \u001b[32m78.4/78.4 kB\u001b[0m \u001b[31m9.3 MB/s\u001b[0m eta \u001b[36m0:00:00\u001b[0m\n",
            "\u001b[?25hCollecting python-decouple==3.6 (from -r requirements.txt (line 7))\n",
            "  Downloading python_decouple-3.6-py3-none-any.whl (9.9 kB)\n",
            "Collecting Flask==2.2.2 (from -r requirements.txt (line 8))\n",
            "  Downloading Flask-2.2.2-py3-none-any.whl (101 kB)\n",
            "\u001b[2K     \u001b[90m━━━━━━━━━━━━━━━━━━━━━━━━━━━━━━━━━━━━━━━━\u001b[0m \u001b[32m101.5/101.5 kB\u001b[0m \u001b[31m12.4 MB/s\u001b[0m eta \u001b[36m0:00:00\u001b[0m\n",
            "\u001b[?25hCollecting python-slugify==6.1.2 (from -r requirements.txt (line 9))\n",
            "  Downloading python_slugify-6.1.2-py2.py3-none-any.whl (9.4 kB)\n",
            "Collecting markupsafe==2.1.1 (from -r requirements.txt (line 10))\n",
            "  Downloading MarkupSafe-2.1.1-cp310-cp310-manylinux_2_17_x86_64.manylinux2014_x86_64.whl (25 kB)\n",
            "Collecting mypy (from Transcrypt==3.9.0->-r requirements.txt (line 3))\n",
            "  Downloading mypy-1.8.0-cp310-cp310-manylinux_2_17_x86_64.manylinux2014_x86_64.whl (12.5 MB)\n",
            "\u001b[2K     \u001b[90m━━━━━━━━━━━━━━━━━━━━━━━━━━━━━━━━━━━━━━━━\u001b[0m \u001b[32m12.5/12.5 MB\u001b[0m \u001b[31m61.5 MB/s\u001b[0m eta \u001b[36m0:00:00\u001b[0m\n",
            "\u001b[?25hRequirement already satisfied: setuptools>=3.0 in /usr/local/lib/python3.10/dist-packages (from gunicorn==20.1.0->-r requirements.txt (line 5)) (67.7.2)\n",
            "Requirement already satisfied: Werkzeug>=2.2.2 in /usr/local/lib/python3.10/dist-packages (from Flask==2.2.2->-r requirements.txt (line 8)) (3.0.1)\n",
            "Requirement already satisfied: itsdangerous>=2.0 in /usr/local/lib/python3.10/dist-packages (from Flask==2.2.2->-r requirements.txt (line 8)) (2.1.2)\n",
            "Requirement already satisfied: text-unidecode>=1.3 in /usr/local/lib/python3.10/dist-packages (from python-slugify==6.1.2->-r requirements.txt (line 9)) (1.3)\n",
            "Requirement already satisfied: typing-extensions>=4.1.0 in /usr/local/lib/python3.10/dist-packages (from mypy->Transcrypt==3.9.0->-r requirements.txt (line 3)) (4.9.0)\n",
            "Collecting mypy-extensions>=1.0.0 (from mypy->Transcrypt==3.9.0->-r requirements.txt (line 3))\n",
            "  Downloading mypy_extensions-1.0.0-py3-none-any.whl (4.7 kB)\n",
            "Requirement already satisfied: tomli>=1.1.0 in /usr/local/lib/python3.10/dist-packages (from mypy->Transcrypt==3.9.0->-r requirements.txt (line 3)) (2.0.1)\n",
            "Building wheels for collected packages: cprint\n",
            "  Building wheel for cprint (setup.py) ... \u001b[?25l\u001b[?25hdone\n",
            "  Created wheel for cprint: filename=cprint-1.2.2-py3-none-any.whl size=2519 sha256=5bacdc106218cc6727c85b0f36faa2e33e2d235a2101961205560ec969262dc3\n",
            "  Stored in directory: /root/.cache/pip/wheels/e8/c7/77/b74864ee8de3abb693e3be291549a29c6ff242ce66801b1622\n",
            "Successfully built cprint\n",
            "Installing collected packages: python-decouple, cprint, watchdog, python-slugify, mypy-extensions, markupsafe, gunicorn, Click, mypy, Jinja2, Transcrypt, Flask\n",
            "  Attempting uninstall: python-slugify\n",
            "    Found existing installation: python-slugify 8.0.3\n",
            "    Uninstalling python-slugify-8.0.3:\n",
            "      Successfully uninstalled python-slugify-8.0.3\n",
            "  Attempting uninstall: markupsafe\n",
            "    Found existing installation: MarkupSafe 2.1.5\n",
            "    Uninstalling MarkupSafe-2.1.5:\n",
            "      Successfully uninstalled MarkupSafe-2.1.5\n",
            "  Attempting uninstall: Click\n",
            "    Found existing installation: click 8.1.7\n",
            "    Uninstalling click-8.1.7:\n",
            "      Successfully uninstalled click-8.1.7\n",
            "  Attempting uninstall: Jinja2\n",
            "    Found existing installation: Jinja2 3.1.3\n",
            "    Uninstalling Jinja2-3.1.3:\n",
            "      Successfully uninstalled Jinja2-3.1.3\n",
            "  Attempting uninstall: Flask\n",
            "    Found existing installation: Flask 2.2.5\n",
            "    Uninstalling Flask-2.2.5:\n",
            "      Successfully uninstalled Flask-2.2.5\n",
            "\u001b[31mERROR: pip's dependency resolver does not currently take into account all the packages that are installed. This behaviour is the source of the following dependency conflicts.\n",
            "lida 0.0.10 requires fastapi, which is not installed.\n",
            "lida 0.0.10 requires kaleido, which is not installed.\n",
            "lida 0.0.10 requires python-multipart, which is not installed.\n",
            "lida 0.0.10 requires uvicorn, which is not installed.\u001b[0m\u001b[31m\n",
            "\u001b[0mSuccessfully installed Click-8.0.1 Flask-2.2.2 Jinja2-3.1.2 Transcrypt-3.9.0 cprint-1.2.2 gunicorn-20.1.0 markupsafe-2.1.1 mypy-1.8.0 mypy-extensions-1.0.0 python-decouple-3.6 python-slugify-6.1.2 watchdog-2.1.9\n"
          ]
        }
      ]
    },
    {
      "cell_type": "markdown",
      "metadata": {
        "id": "kzgs5fnRnLVT"
      },
      "source": [
        "Need to run a server"
      ]
    },
    {
      "cell_type": "code",
      "execution_count": null,
      "metadata": {
        "colab": {
          "base_uri": "https://localhost:8080/",
          "height": 34
        },
        "id": "eB9JUkd4me9B",
        "outputId": "90143fec-b881-437b-e330-4fc34243dfbf"
      },
      "outputs": [
        {
          "name": "stdout",
          "output_type": "stream",
          "text": [
            "https://tqastwup2dp-496ff2e9c6d22116-8000-colab.googleusercontent.com/\n"
          ]
        }
      ],
      "source": [
        "# from google.colab.output import eval_js\n",
        "# print(eval_js(\"google.colab.kernel.proxyPort(8000)\"))"
      ]
    },
    {
      "cell_type": "markdown",
      "metadata": {
        "id": "jsCHy76jm2mM"
      },
      "source": [
        "run in a cell\n",
        "https://stackoverflow.com/questions/59741453/is-there-a-general-way-to-run-web-applications-on-google-colab"
      ]
    },
    {
      "cell_type": "markdown",
      "source": [
        "## Start here!!"
      ],
      "metadata": {
        "id": "7hgB68zh4NjS"
      }
    },
    {
      "cell_type": "code",
      "source": [
        "from IPython.core.magic import register_line_magic\n",
        "import IPython\n",
        "import subprocess\n",
        "\n",
        "@register_line_magic\n",
        "def run_local_server(line):\n",
        "    handle = IPython.display.display(\n",
        "            IPython.display.Pretty(\"Launching my server...\"),\n",
        "            display_id=True,\n",
        "    )\n",
        "    subprocess.Popen(['python', '-m', 'http.server'])\n",
        "    shell = \"\"\"\n",
        "        (async () => {\n",
        "            const url = new URL(await google.colab.kernel.proxyPort(8000, {'cache': true}));\n",
        "            const iframe = document.createElement('iframe');\n",
        "            iframe.src = url;\n",
        "            iframe.setAttribute('width', '100%');\n",
        "            iframe.setAttribute('height', '400');\n",
        "            iframe.setAttribute('frameborder', 0);\n",
        "            document.body.appendChild(iframe);\n",
        "        })();\n",
        "    \"\"\"\n",
        "    script = IPython.display.Javascript(shell)\n",
        "    handle.update(script)"
      ],
      "metadata": {
        "id": "BwyNE2Vxz5X_"
      },
      "execution_count": 4,
      "outputs": []
    },
    {
      "cell_type": "code",
      "source": [
        "%run_local_server"
      ],
      "metadata": {
        "colab": {
          "resources": {
            "https://localhost:8000/": {
              "data": "PCFET0NUWVBFIEhUTUwgUFVCTElDICItLy9XM0MvL0RURCBIVE1MIDQuMDEvL0VOIiAiaHR0cDovL3d3dy53My5vcmcvVFIvaHRtbDQvc3RyaWN0LmR0ZCI+CjxodG1sPgo8aGVhZD4KPG1ldGEgaHR0cC1lcXVpdj0iQ29udGVudC1UeXBlIiBjb250ZW50PSJ0ZXh0L2h0bWw7IGNoYXJzZXQ9dXRmLTgiPgo8dGl0bGU+RGlyZWN0b3J5IGxpc3RpbmcgZm9yIC88L3RpdGxlPgo8L2hlYWQ+Cjxib2R5Pgo8aDE+RGlyZWN0b3J5IGxpc3RpbmcgZm9yIC88L2gxPgo8aHI+Cjx1bD4KPGxpPjxhIGhyZWY9Ii5naXQvIj4uZ2l0LzwvYT48L2xpPgo8bGk+PGEgaHJlZj0iLmdpdGh1Yi8iPi5naXRodWIvPC9hPjwvbGk+CjxsaT48YSBocmVmPSIuZ2l0aWdub3JlIj4uZ2l0aWdub3JlPC9hPjwvbGk+CjxsaT48YSBocmVmPSIuZ2l0cG9kLnltbCI+LmdpdHBvZC55bWw8L2E+PC9saT4KPGxpPjxhIGhyZWY9ImJpbi8iPmJpbi88L2E+PC9saT4KPGxpPjxhIGhyZWY9IkNIQU5HRUxPRy5tZCI+Q0hBTkdFTE9HLm1kPC9hPjwvbGk+CjxsaT48YSBocmVmPSJDT05UUklCVVRJTkcubWQiPkNPTlRSSUJVVElORy5tZDwvYT48L2xpPgo8bGk+PGEgaHJlZj0iZGV2LXJlcXVpcmVtZW50cy50eHQiPmRldi1yZXF1aXJlbWVudHMudHh0PC9hPjwvbGk+CjxsaT48YSBocmVmPSJkb2NzLyI+ZG9jcy88L2E+PC9saT4KPGxpPjxhIGhyZWY9IkxJQ0VOU0UiPkxJQ0VOU0U8L2E+PC9saT4KPGxpPjxhIGhyZWY9Ik1ha2VmaWxlIj5NYWtlZmlsZTwvYT48L2xpPgo8bGk+PGEgaHJlZj0iTWFrZWZpbGUuYmF0Ij5NYWtlZmlsZS5iYXQ8L2E+PC9saT4KPGxpPjxhIGhyZWY9Ik1BTklGRVNULmluIj5NQU5JRkVTVC5pbjwvYT48L2xpPgo8bGk+PGEgaHJlZj0icHlwNWpzLyI+cHlwNWpzLzwvYT48L2xpPgo8bGk+PGEgaHJlZj0icHl0ZXN0LmluaSI+cHl0ZXN0LmluaTwvYT48L2xpPgo8bGk+PGEgaHJlZj0iUkVBRE1FLm1kIj5SRUFETUUubWQ8L2E+PC9saT4KPGxpPjxhIGhyZWY9InJlcXVpcmVtZW50cy50eHQiPnJlcXVpcmVtZW50cy50eHQ8L2E+PC9saT4KPGxpPjxhIGhyZWY9InNldHVwLnB5Ij5zZXR1cC5weTwvYT48L2xpPgo8bGk+PGEgaHJlZj0iVkVSU0lPTiI+VkVSU0lPTjwvYT48L2xpPgo8L3VsPgo8aHI+CjwvYm9keT4KPC9odG1sPgo=",
              "ok": true,
              "headers": [
                [
                  "content-type",
                  "text/html; charset=utf-8"
                ]
              ],
              "status": 200,
              "status_text": ""
            }
          },
          "base_uri": "https://localhost:8080/",
          "height": 421
        },
        "id": "dAdN9L56z6Wu",
        "outputId": "5949868f-ac15-4649-e19f-7e685b7fbdf6"
      },
      "execution_count": 20,
      "outputs": [
        {
          "output_type": "display_data",
          "data": {
            "text/plain": [
              "<IPython.core.display.Javascript object>"
            ],
            "application/javascript": [
              "\n",
              "        (async () => {\n",
              "            const url = new URL(await google.colab.kernel.proxyPort(8000, {'cache': true}));\n",
              "            const iframe = document.createElement('iframe');\n",
              "            iframe.src = url;\n",
              "            iframe.setAttribute('width', '100%');\n",
              "            iframe.setAttribute('height', '400');\n",
              "            iframe.setAttribute('frameborder', 0);\n",
              "            document.body.appendChild(iframe);\n",
              "        })();\n",
              "    "
            ]
          },
          "metadata": {}
        }
      ]
    },
    {
      "cell_type": "code",
      "execution_count": null,
      "metadata": {
        "id": "WWO7RH7qiEiA"
      },
      "outputs": [],
      "source": [
        "SKETCHBOOK_DIR='~/my-custom-sketchbook'\n",
        "!pyp5js serve host=host, port=8000, debug=debug"
      ]
    }
  ],
  "metadata": {
    "colab": {
      "provenance": [],
      "authorship_tag": "ABX9TyPlGHj3k1nOsbjkgzOJjFyf",
      "include_colab_link": true
    },
    "kernelspec": {
      "display_name": "Python 3",
      "name": "python3"
    },
    "language_info": {
      "name": "python"
    }
  },
  "nbformat": 4,
  "nbformat_minor": 0
}