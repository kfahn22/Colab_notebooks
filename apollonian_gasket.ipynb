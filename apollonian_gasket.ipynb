{
  "nbformat": 4,
  "nbformat_minor": 0,
  "metadata": {
    "colab": {
      "provenance": [],
      "authorship_tag": "ABX9TyP+4Y8geTfQ+raqEfG6d86S",
      "include_colab_link": true
    },
    "kernelspec": {
      "name": "python3",
      "display_name": "Python 3"
    },
    "language_info": {
      "name": "python"
    }
  },
  "cells": [
    {
      "cell_type": "markdown",
      "metadata": {
        "id": "view-in-github",
        "colab_type": "text"
      },
      "source": [
        "<a href=\"https://colab.research.google.com/github/kfahn22/Colab_notebooks/blob/main/apollonian_gasket.ipynb\" target=\"_parent\"><img src=\"https://colab.research.google.com/assets/colab-badge.svg\" alt=\"Open In Colab\"/></a>"
      ]
    },
    {
      "cell_type": "markdown",
      "source": [
        "## Apollonian gasket\n",
        "\n",
        "Code from [here](https://code.activestate.com/recipes/578765-circle-inversion-fractals/?in=user-4172570)\n",
        "\n",
        "The same person has another (much slower) implementation [here](https://code.activestate.com/recipes/578029-generalized-apollonian-gasket-fractal/).\n",
        "\n",
        "Reference from [Wolram Math](https://mathworld.wolfram.com/ApollonianGasket.html)"
      ],
      "metadata": {
        "id": "m0lVVUBTKWzL"
      }
    },
    {
      "cell_type": "code",
      "source": [
        "# Circle Inversion Fractals (Apollonian Gasket)\n",
        "# FB36 - 20131029\n",
        "import math\n",
        "import random\n",
        "from PIL import Image\n",
        "imgx = 512; imgy = 512\n",
        "image = Image.new(\"RGB\", (imgx, imgy))\n",
        "pixels = image.load()\n",
        "n = random.randint(3, 6) # of main circles\n",
        "a = math.pi * 2.0 / n\n",
        "r = math.sin(a) / math.sin((math.pi - a) / 2.0) / 2.0 # r of main circles\n",
        "h = math.sqrt(1.0 - r * r)\n",
        "xa = -h; xb = h; ya = -h; yb = h # viewing area\n",
        "cx = [0.0]; cy = [0.0]; cr = [1.0 - r] # center circle\n",
        "for i in range(n): # add main circles\n",
        "    cx.append(math.cos(a * i))\n",
        "    cy.append(math.sin(a * i))\n",
        "    cr.append(r)\n",
        "maxIt = 100000 # of iterations\n",
        "x = -2.0; y = -2.0 # initial point (outside of the circles)\n",
        "for i in range(maxIt):\n",
        "    k = random.randint(0, n) # selected circle for inversion\n",
        "    dx = x - cx[k]; dy = y - cy[k]\n",
        "    d = math.hypot(dx, dy)\n",
        "    dx = dx / d; dy = dy / d\n",
        "    dnew = cr[k] ** 2.0 / d\n",
        "    x = dnew * dx + cx[k]\n",
        "    y = dnew * dy + cy[k]\n",
        "    kx = int((imgx - 1) * (x - xa) / (xb - xa))\n",
        "    ky = int((imgy - 1) * (y - ya) / (yb - ya))\n",
        "    try: pixels[kx, ky] = (255, 0, 255)\n",
        "    except: pass\n",
        "image.save(\"CircleInversionFractal_\" + str(n) + \".png\", \"PNG\")\n"
      ],
      "metadata": {
        "id": "k1c2tCCYQTxZ"
      },
      "execution_count": 3,
      "outputs": []
    },
    {
      "cell_type": "markdown",
      "source": [
        "Adjust code to add random color"
      ],
      "metadata": {
        "id": "f_NNu8VhRvLt"
      }
    },
    {
      "cell_type": "code",
      "source": [
        "# Circle Inversion Fractals (Apollonian Gasket)\n",
        "# FB36 - 20131029\n",
        "import math\n",
        "import random\n",
        "from PIL import Image\n",
        "imgx = 512; imgy = 512\n",
        "image = Image.new(\"RGB\", (imgx, imgy))\n",
        "pixels = image.load()\n",
        "n = random.randint(3, 6) # of main circles\n",
        "a = math.pi * 2.0 / n\n",
        "r = math.sin(a) / math.sin((math.pi - a) / 2.0) / 2.0 # r of main circles\n",
        "h = math.sqrt(1.0 - r * r)\n",
        "xa = -h; xb = h; ya = -h; yb = h # viewing area\n",
        "cx = [0.0]; cy = [0.0]; cr = [1.0 - r] # center circle\n",
        "for i in range(n): # add main circles\n",
        "    cx.append(math.cos(a * i))\n",
        "    cy.append(math.sin(a * i))\n",
        "    cr.append(r)\n",
        "maxIt = 100000 # of iterations\n",
        "x = -2.0; y = -2.0 # initial point (outside of the circles)\n",
        "for i in range(maxIt):\n",
        "    k = random.randint(0, n) # selected circle for inversion\n",
        "    dx = x - cx[k]; dy = y - cy[k]\n",
        "    d = math.hypot(dx, dy)\n",
        "    dx = dx / d; dy = dy / d\n",
        "    dnew = cr[k] ** 2.0 / d\n",
        "    x = dnew * dx + cx[k]\n",
        "    y = dnew * dy + cy[k]\n",
        "    kx = int((imgx - 1) * (x - xa) / (xb - xa))\n",
        "    ky = int((imgy - 1) * (y - ya) / (yb - ya))\n",
        "    r = random.randint(0, 255)\n",
        "    g = random.randint(0, 255)\n",
        "    b = random.randint(0, 255)\n",
        "    try: pixels[kx, ky] = (r, g, b)\n",
        "    except: pass\n",
        "image.save(\"CircleInversionFractal_\" + str(n) + \".png\", \"PNG\")"
      ],
      "metadata": {
        "id": "1mKotFmFRatc"
      },
      "execution_count": 1,
      "outputs": []
    },
    {
      "cell_type": "code",
      "source": [
        "def appolonian_gasket(n):\n",
        "  #n = random.randint(3, 6) # of main circles\n",
        "  a = math.pi * 2.0 / n\n",
        "  r = math.sin(a) / math.sin((math.pi - a) / 2.0) / 2.0 # r of main circles\n",
        "  h = math.sqrt(1.0 - r * r)\n",
        "  xa = -h; xb = h; ya = -h; yb = h # viewing area\n",
        "  cx = [0.0]; cy = [0.0]; cr = [1.0 - r] # center circle\n",
        "  for i in range(n): # add main circles\n",
        "    cx.append(math.cos(a * i))\n",
        "    cy.append(math.sin(a * i))\n",
        "    cr.append(r)\n",
        "  maxIt = 100000 # of iterations\n",
        "  x = -2.0; y = -2.0 # initial point (outside of the circles)\n",
        "  for i in range(maxIt):\n",
        "    k = random.randint(0, n) # selected circle for inversion\n",
        "    dx = x - cx[k]; dy = y - cy[k]\n",
        "    d = math.hypot(dx, dy)\n",
        "    dx = dx / d; dy = dy / d\n",
        "    dnew = cr[k] ** 2.0 / d\n",
        "    x = dnew * dx + cx[k]\n",
        "    y = dnew * dy + cy[k]\n",
        "    kx = int((imgx - 1) * (x - xa) / (xb - xa))\n",
        "    ky = int((imgy - 1) * (y - ya) / (yb - ya))\n",
        "\n",
        ""
      ],
      "metadata": {
        "id": "5ztS3r0tSgwF"
      },
      "execution_count": 2,
      "outputs": []
    },
    {
      "cell_type": "markdown",
      "source": [
        "Failed attempt to create to a function using numpy"
      ],
      "metadata": {
        "id": "pTy_qOlIX2d_"
      }
    },
    {
      "cell_type": "code",
      "source": [
        "import numpy as np\n",
        "import matplotlib.pyplot as plt\n",
        "import matplotlib.colors as mcolors\n",
        "from matplotlib.colors import LinearSegmentedColormap\n",
        "\n",
        "def apollonian_gasket(n, imgx, imgy):\n",
        "    a = np.pi * 2.0 / n\n",
        "    r = np.sin(a) / np.sin((np.pi - a) / 2.0) / 2.0\n",
        "    h = np.sqrt(1.0 - r * r)\n",
        "    xa, xb, ya, yb = -h, h, -h, h\n",
        "\n",
        "    cx = np.zeros(n + 1)\n",
        "    cy = np.zeros(n + 1)\n",
        "    cr = np.zeros(n + 1)\n",
        "\n",
        "    cx[0], cy[0], cr[0] = 0.0, 0.0, 1.0 - r\n",
        "\n",
        "    for i in range(n):\n",
        "        cx[i+1] = np.cos(a * i)\n",
        "        cy[i+1] = np.sin(a * i)\n",
        "        cr[i+1] = r\n",
        "\n",
        "    #maxIt = 100000\n",
        "    maxIt = 100\n",
        "    x, y = -2.0, -2.0\n",
        "    image = np.zeros((imgy, imgx))\n",
        "\n",
        "    for i in range(maxIt):\n",
        "        k = np.random.randint(0, n + 1)\n",
        "        dx = cx[k] - xa\n",
        "        dy = cy[k] - ya\n",
        "        d = np.hypot(dx, dy)\n",
        "        dnew = cr[k] ** 2.0 / d\n",
        "        x = dnew * dx + xa\n",
        "        y = dnew * dy + ya\n",
        "        kx = int((imgx - 1) * (x - xa) / (xb - xa))\n",
        "        ky = int((imgy - 1) * (y - ya) / (yb - ya))\n",
        "        if kx >= 0 and kx < imgx and ky >= 0 and ky < imgy:\n",
        "            image[ky, kx] += 1\n",
        "\n",
        "    plt.scatter(image[0], image[1], c='blue')\n",
        "\n",
        "    if save_path:\n",
        "        plt.savefig(save_path, transparent=True, facecolor='black')\n",
        "    plt.axis('off')\n",
        "    plt.axis('equal')\n",
        "    #return image\n",
        "\n",
        "save_path = 'apollonian_gasket.png'\n",
        "\n",
        "# Example usage\n",
        "imgx, imgy = 800, 600\n",
        "n = np.random.randint(3, 7)  # Number of main circles\n",
        "image = apollonian_gasket(3, imgx, imgy)\n",
        "\n"
      ],
      "metadata": {
        "colab": {
          "base_uri": "https://localhost:8080/",
          "height": 426
        },
        "id": "IpNEmhpsTmoT",
        "outputId": "92e076ae-8737-4109-dc5c-042952d52af7"
      },
      "execution_count": 11,
      "outputs": [
        {
          "output_type": "display_data",
          "data": {
            "text/plain": [
              "<Figure size 640x480 with 1 Axes>"
            ],
            "image/png": "[encoded data removed]"
          },
          "metadata": {}
        }
      ]
    },
    {
      "cell_type": "code",
      "source": [
        "import numpy as np\n",
        "import matplotlib.pyplot as plt\n",
        "\n",
        "def apollonian_gasket(n, imgx, imgy):\n",
        "    a = np.pi * 2.0 / n\n",
        "    r = np.sin(a) / np.sin((np.pi - a) / 2.0) / 2.0\n",
        "    h = np.sqrt(1.0 - r * r)\n",
        "    xa, xb, ya, yb = -h, h, -h, h\n",
        "\n",
        "    cx = np.zeros(n)\n",
        "    cy = np.zeros(n)\n",
        "    cr = np.zeros(n)\n",
        "\n",
        "    for i in range(n):\n",
        "        cx[i] = np.cos(a * i)\n",
        "        cy[i] = np.sin(a * i)\n",
        "        cr[i] = r\n",
        "\n",
        "    maxIt = 100000\n",
        "    image = np.zeros((imgy, imgx))\n",
        "\n",
        "    for i in range(maxIt):\n",
        "        k = np.random.randint(0, n)\n",
        "        dx = cx[k] - xa\n",
        "        dy = cy[k] - ya\n",
        "        d = np.hypot(dx, dy)\n",
        "        dnew = cr[k] ** 2.0 / d\n",
        "        x = dnew * dx + xa\n",
        "        y = dnew * dy + ya\n",
        "        kx = int((imgx - 1) * (x - xa) / (xb - xa))\n",
        "        ky = int((imgy - 1) * (y - ya) / (yb - ya))\n",
        "        if kx >= 0 and kx < imgx and ky >= 0 and ky < imgy:\n",
        "            image[ky, kx] += 1\n",
        "\n",
        "    return image\n",
        "\n",
        "def render_gasket(image):\n",
        "    plt.imshow(image, cmap='hot', origin='lower', extent=(-1, 1, -1, 1))\n",
        "    plt.axis('off')\n",
        "    plt.show()\n",
        "\n",
        "# Example usage\n",
        "imgx, imgy = 800, 600\n",
        "n = np.random.randint(3, 7)  # Number of main circles\n",
        "image = apollonian_gasket(n, imgx, imgy)\n",
        "render_gasket(image)\n"
      ],
      "metadata": {
        "colab": {
          "base_uri": "https://localhost:8080/",
          "height": 426
        },
        "id": "K2uPQkWOWXeA",
        "outputId": "37507eae-07a3-4d5d-d59f-233476540d90"
      },
      "execution_count": 13,
      "outputs": [
        {
          "output_type": "display_data",
          "data": {
            "text/plain": [
              "<Figure size 640x480 with 1 Axes>"
            ],
            "image/png": "[encoded data removed]"
          },
          "metadata": {}
        }
      ]
    },
    {
      "cell_type": "code",
      "source": [
        "import numpy as np\n",
        "import matplotlib.pyplot as plt\n",
        "\n",
        "def apollonian_gasket(n, imgx, imgy):\n",
        "    a = np.pi * 2.0 / n\n",
        "    r = np.sin(a) / np.sin((np.pi - a) / 2.0) / 2.0\n",
        "    h = np.sqrt(1.0 - r * r)\n",
        "    xa, xb, ya, yb = -h, h, -h, h\n",
        "\n",
        "    cx = np.zeros(n)\n",
        "    cy = np.zeros(n)\n",
        "    cr = np.zeros(n)\n",
        "\n",
        "    for i in range(n):\n",
        "        cx[i] = np.cos(a * i)\n",
        "        cy[i] = np.sin(a * i)\n",
        "        cr[i] = r\n",
        "\n",
        "    maxIt = 1000\n",
        "    circles = []\n",
        "\n",
        "    for i in range(maxIt):\n",
        "        k = np.random.randint(0, n)\n",
        "        dx = cx[k] - xa\n",
        "        dy = cy[k] - ya\n",
        "        d = np.hypot(dx, dy)\n",
        "        dnew = cr[k] ** 2.0 / d\n",
        "        x = dnew * dx + xa\n",
        "        y = dnew * dy + ya\n",
        "        if x**2 + y**2 < (1 - cr[k])**2:  # Only add the circle if it's inside the unit circle\n",
        "            circles.append((x, y, cr[k]))\n",
        "\n",
        "    return circles\n",
        "\n",
        "def render_circles(circles):\n",
        "    fig, ax = plt.subplots(figsize=(8, 8))\n",
        "    for circle in circles:\n",
        "        x, y, r = circle\n",
        "        circle = plt.Circle((x, y), r, color='r', fill=False)\n",
        "        ax.add_artist(circle)\n",
        "    ax.set_xlim(-1, 1)\n",
        "    ax.set_ylim(-1, 1)\n",
        "    ax.set_aspect('equal')\n",
        "    plt.show()\n",
        "\n",
        "# Example usage\n",
        "n = np.random.randint(3, 7)  # Number of main circles\n",
        "circles = apollonian_gasket(n, 800, 800)\n",
        "render_circles(circles)\n"
      ],
      "metadata": {
        "colab": {
          "base_uri": "https://localhost:8080/",
          "height": 702
        },
        "id": "6tJOoWiuW-pf",
        "outputId": "7b0852d5-f4f5-47f6-e4c7-6cf5af1fc26c"
      },
      "execution_count": 15,
      "outputs": [
        {
          "output_type": "display_data",
          "data": {
            "text/plain": [
              "<Figure size 800x800 with 1 Axes>"
            ],
            "image/png": "[encoded data removed]"
          },
          "metadata": {}
        }
      ]
    }
  ]
}