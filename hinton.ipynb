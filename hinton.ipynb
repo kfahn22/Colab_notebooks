{
  "nbformat": 4,
  "nbformat_minor": 0,
  "metadata": {
    "colab": {
      "provenance": [],
      "authorship_tag": "ABX9TyNgnLK0ToFyclWGEx13i1fC",
      "include_colab_link": true
    },
    "kernelspec": {
      "name": "python3",
      "display_name": "Python 3"
    },
    "language_info": {
      "name": "python"
    }
  },
  "cells": [
    {
      "cell_type": "markdown",
      "metadata": {
        "id": "view-in-github",
        "colab_type": "text"
      },
      "source": [
        "<a href=\"https://colab.research.google.com/github/kfahn22/Colab_notebooks/blob/main/hinton.ipynb\" target=\"_parent\"><img src=\"https://colab.research.google.com/assets/colab-badge.svg\" alt=\"Open In Colab\"/></a>"
      ]
    },
    {
      "cell_type": "code",
      "source": [
        "import random\n",
        "import matplotlib.colors as mcolors\n",
        "\n",
        "# Define new colormap\n",
        "import matplotlib.pyplot as plt\n",
        "import numpy as np\n",
        "\n",
        "from matplotlib.colors import LinearSegmentedColormap\n",
        "colors1 = mcolors.CSS4_COLORS\n",
        "colors2 = mcolors.XKCD_COLORS\n",
        "\n",
        "def make_colormap(n_bins, color_choices=None):\n",
        "    \"\"\"Return a LinearSegmentedColormap\n",
        "    color1 and color2 are the two colors that are interpolated between\n",
        "    n_bins: Discretizes the interpolation into bins\n",
        "    \"\"\"\n",
        "    if color_choices is None:\n",
        "        colors = colors2\n",
        "    color_name1 = random.choice(list(colors.keys()))\n",
        "    color_name2 = random.choice(list(colors.keys()))\n",
        "    color1 = colors[color_name1]\n",
        "    color2 = colors[color_name2]\n",
        "    cmap_name = color_name1 + '/' + color_name2\n",
        "    color_choices = [color1, color2]\n",
        "    for n_bin in range(n_bins):\n",
        "      cmap = LinearSegmentedColormap.from_list(cmap_name, color_choices, N=n_bin)\n",
        "    return cmap, color_name1, color_name2"
      ],
      "metadata": {
        "id": "atav_L0x5vZi"
      },
      "execution_count": 1,
      "outputs": []
    },
    {
      "cell_type": "code",
      "execution_count": 7,
      "metadata": {
        "colab": {
          "base_uri": "https://localhost:8080/",
          "height": 426
        },
        "id": "Cq9ZRo6E5MHE",
        "outputId": "3b47858e-acfc-4ba7-e283-6fd36f0004ee"
      },
      "outputs": [
        {
          "output_type": "display_data",
          "data": {
            "text/plain": [
              "<Figure size 640x480 with 1 Axes>"
            ],
            "image/png": "[encoded data removed]"
          },
          "metadata": {}
        }
      ],
      "source": [
        "import matplotlib.pyplot as plt\n",
        "import numpy as np\n",
        "\n",
        "\n",
        "def hinton(matrix, max_weight=None, ax=None):\n",
        "    \"\"\"Draw Hinton diagram for visualizing a weight matrix.\"\"\"\n",
        "    ax = ax if ax is not None else plt.gca()\n",
        "\n",
        "    colormap = make_colormap(4)\n",
        "    c1 = colormap[1]\n",
        "    c2 = colormap[2]\n",
        "    if not max_weight:\n",
        "        max_weight = 2 ** np.ceil(np.log2(np.abs(matrix).max()))\n",
        "\n",
        "    ax.patch.set_facecolor(c1)\n",
        "    ax.set_aspect('equal', 'box')\n",
        "    ax.xaxis.set_major_locator(plt.NullLocator())\n",
        "    ax.yaxis.set_major_locator(plt.NullLocator())\n",
        "\n",
        "    for (x, y), w in np.ndenumerate(matrix):\n",
        "        color = c2 if w > 0 else 'black'\n",
        "        size = np.sqrt(abs(w) / max_weight)\n",
        "        rect = plt.Rectangle([x - size / 2, y - size / 2], size, size,\n",
        "                             facecolor=color, edgecolor=color)\n",
        "        ax.add_patch(rect)\n",
        "\n",
        "    ax.autoscale_view()\n",
        "    ax.invert_yaxis()\n",
        "\n",
        "\n",
        "if __name__ == '__main__':\n",
        "    # Fixing random state for reproducibility\n",
        "    np.random.seed(19680801)\n",
        "    cmap = make_colormap(4)\n",
        "    hinton(np.random.rand(20, 20) - 0.5)\n",
        "    plt.show()"
      ]
    }
  ]
}