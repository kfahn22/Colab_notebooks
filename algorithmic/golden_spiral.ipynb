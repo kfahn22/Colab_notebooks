{
  "nbformat": 4,
  "nbformat_minor": 0,
  "metadata": {
    "colab": {
      "provenance": [],
      "authorship_tag": "ABX9TyPM29pAoC0R+OEwvQWU9aGw",
      "include_colab_link": true
    },
    "kernelspec": {
      "name": "python3",
      "display_name": "Python 3"
    },
    "language_info": {
      "name": "python"
    }
  },
  "cells": [
    {
      "cell_type": "markdown",
      "metadata": {
        "id": "view-in-github",
        "colab_type": "text"
      },
      "source": [
        "<a href=\"https://colab.research.google.com/github/kfahn22/Colab_notebooks/blob/main/golden_spiral.ipynb\" target=\"_parent\"><img src=\"https://colab.research.google.com/assets/colab-badge.svg\" alt=\"Open In Colab\"/></a>"
      ]
    },
    {
      "cell_type": "markdown",
      "source": [
        "## Golden spiral\n",
        "\n",
        "TODO: investigate dpi"
      ],
      "metadata": {
        "id": "6jvrQUMYiasm"
      }
    },
    {
      "cell_type": "code",
      "source": [
        "import random\n",
        "import matplotlib.colors as mcolors\n",
        "from matplotlib.colors import LinearSegmentedColormap\n",
        "colors1 = mcolors.CSS4_COLORS\n",
        "colors2 = mcolors.XKCD_COLORS\n",
        "\n",
        "def make_colormap(n_bins, color_choices=None):\n",
        "    \"\"\"Return a LinearSegmentedColormap\n",
        "    color1 and color2 are the two colors that are interpolated between\n",
        "    n_bins: Discretizes the interpolation into bins\n",
        "    \"\"\"\n",
        "    if color_choices is None:\n",
        "        colors = colors2\n",
        "    color_name1 = random.choice(list(colors.keys()))\n",
        "    color_name2 = random.choice(list(colors.keys()))\n",
        "    color1 = colors[color_name1]\n",
        "    color2 = colors[color_name2]\n",
        "    cmap_name = color_name1 + '/' + color_name2\n",
        "    color_choices = [color1, color2]\n",
        "    for n_bin in range(n_bins):\n",
        "      cmap = LinearSegmentedColormap.from_list(cmap_name, color_choices, N=n_bin)\n",
        "    return cmap, color_name1, color_name2"
      ],
      "metadata": {
        "id": "b0fUZUi6hfNn"
      },
      "execution_count": 2,
      "outputs": []
    },
    {
      "cell_type": "markdown",
      "source": [
        "Golden spiral code from [here](https://www.reddit.com/r/learnpython/comments/14i1y67/how_to_draw_a_golden_spiral_using_numpy_and/).\n",
        "\n",
        "[Polar plots](https://matplotlib.org/stable/gallery/pie_and_polar_charts/polar_scatter.html)"
      ],
      "metadata": {
        "id": "wX-9Gcx9iP_a"
      }
    },
    {
      "cell_type": "code",
      "source": [
        "from PIL import Image\n",
        "\n",
        "import numpy as np\n",
        "from matplotlib import pyplot as plt\n",
        "\n",
        "N = 100\n",
        "full_circle = 2 * np.pi\n",
        "golden = 1.61803398875\n",
        "\n",
        "def golden_spiral(N, save_path=None, colormap='viridis'):\n",
        "   angles = np.linspace(0, full_circle * 4, num=N)\n",
        "   powers = angles / np.pi\n",
        "   radii = golden ** powers\n",
        "\n",
        "   # Convert to cartesian coordinates\n",
        "   x = np.cos(angles) * radii\n",
        "   y = np.sin(angles) * radii\n",
        "\n",
        "   plt.figure(figsize=(5, 4))\n",
        "\n",
        "   # Change the size of the circle based on radius\n",
        "   area = 0.3 * radii**2\n",
        "   # Plot the spiral with colormap\n",
        "   plt.scatter(x, y, s=area, color=colormap[1])\n",
        "   plt.axis('off')\n",
        "\n",
        "\n",
        "   # Save the plot if save_path is provided\n",
        "   if save_path:\n",
        "        plt.savefig(save_path, transparent=True, facecolor=colormap[2])\n",
        "\n",
        "   #plt.show()\n",
        "   plt.close()"
      ],
      "metadata": {
        "id": "inTbA3f6hU8F"
      },
      "execution_count": 19,
      "outputs": []
    },
    {
      "cell_type": "code",
      "source": [
        "# Generate a random colormap\n",
        "colormap = make_colormap(4)\n",
        "# Extract the colormap and the two colors\n",
        "cmap = colormap[0]\n",
        "c1 = colormap[1]\n",
        "c2 = colormap[2]\n",
        "\n",
        "i = 0\n",
        "save_path = f'golden_spiral{i}.png'\n",
        "golden_spiral(N, save_path, colormap=colormap)"
      ],
      "metadata": {
        "colab": {
          "base_uri": "https://localhost:8080/"
        },
        "id": "KOBOhx806wbi",
        "outputId": "824eb144-51b4-48fc-9c2f-647076c0e683"
      },
      "execution_count": 20,
      "outputs": [
        {
          "output_type": "stream",
          "name": "stdout",
          "text": [
            "Plot saved to golden_spiral0.png\n"
          ]
        }
      ]
    },
    {
      "cell_type": "markdown",
      "source": [
        "Golden spiral with rainbow colors"
      ],
      "metadata": {
        "id": "vXVFgffitk7E"
      }
    },
    {
      "cell_type": "code",
      "source": [
        "def golden_spiral(N, save_path=None, background_color='black', colormap='viridis'):\n",
        "    angles = np.linspace(0, full_circle * 4, num=N)\n",
        "    powers = angles / np.pi\n",
        "    radii = golden ** powers\n",
        "\n",
        "    # Convert to cartesian coordinates\n",
        "    x = np.cos(angles) * radii\n",
        "    y = np.sin(angles) * radii\n",
        "\n",
        "    # Create a custom colormap\n",
        "    cmap = plt.get_cmap(colormap)\n",
        "    colors = cmap(np.linspace(0, 1, N))\n",
        "\n",
        "    # Plot the spiral with colormap\n",
        "    plt.figure(figsize=(6, 6))\n",
        "    plt.scatter(x, y, c=colors)\n",
        "    plt.gca().set_facecolor(background_color)\n",
        "    plt.axis('equal')\n",
        "    plt.axis('off')\n",
        "\n",
        "    # Save the plot if save_path is provided\n",
        "    if save_path:\n",
        "        plt.savefig(save_path, transparent=True, facecolor=background_color)\n",
        "        print(f\"Plot saved to {save_path}\")\n",
        "\n",
        "    plt.close()\n",
        "\n",
        "i=0\n",
        "save_path = f'rainbow_golden_spiral{i}.png'\n",
        "golden_spiral(100, save_path=save_path, background_color='black', colormap='plasma')"
      ],
      "metadata": {
        "colab": {
          "base_uri": "https://localhost:8080/"
        },
        "id": "PDqGrK2Otjzw",
        "outputId": "274f9f79-6b6d-4225-8dd7-0cb3c8e06132"
      },
      "execution_count": 10,
      "outputs": [
        {
          "output_type": "stream",
          "name": "stdout",
          "text": [
            "Plot saved to rainbow_golden_spiral0.png\n"
          ]
        }
      ]
    },
    {
      "cell_type": "markdown",
      "source": [
        "[Polar plots](https://matplotlib.org/stable/gallery/pie_and_polar_charts/polar_scatter.html#sphx-glr-gallery-pie-and-polar-charts-polar-scatter-py)"
      ],
      "metadata": {
        "id": "kZlzAL51FEmV"
      }
    }
  ]
}