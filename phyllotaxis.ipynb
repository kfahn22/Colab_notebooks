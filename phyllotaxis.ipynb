{
  "nbformat": 4,
  "nbformat_minor": 0,
  "metadata": {
    "colab": {
      "provenance": [],
      "authorship_tag": "ABX9TyPsyM4IFFmQW0Zp6loUOwwa",
      "include_colab_link": true
    },
    "kernelspec": {
      "name": "python3",
      "display_name": "Python 3"
    },
    "language_info": {
      "name": "python"
    }
  },
  "cells": [
    {
      "cell_type": "markdown",
      "metadata": {
        "id": "view-in-github",
        "colab_type": "text"
      },
      "source": [
        "<a href=\"https://colab.research.google.com/github/kfahn22/Colab_notebooks/blob/main/phyllotaxis.ipynb\" target=\"_parent\"><img src=\"https://colab.research.google.com/assets/colab-badge.svg\" alt=\"Open In Colab\"/></a>"
      ]
    },
    {
      "cell_type": "markdown",
      "source": [
        "## Pyllotaxis\n",
        "\n",
        "TODO: investigate dpi"
      ],
      "metadata": {
        "id": "6jvrQUMYiasm"
      }
    },
    {
      "cell_type": "code",
      "source": [
        "import random\n",
        "import matplotlib.colors as mcolors\n",
        "\n",
        "# Define new colormap\n",
        "import matplotlib.pyplot as plt\n",
        "import numpy as np\n",
        "\n",
        "from matplotlib.colors import LinearSegmentedColormap\n",
        "colors1 = mcolors.CSS4_COLORS\n",
        "colors2 = mcolors.XKCD_COLORS\n",
        "\n",
        "def make_colormap(n_bins, color_choices=None):\n",
        "    \"\"\"Return a LinearSegmentedColormap\n",
        "    color1 and color2 are the two colors that are interpolated between\n",
        "    n_bins: Discretizes the interpolation into bins\n",
        "    \"\"\"\n",
        "    if color_choices is None:\n",
        "        colors = colors2\n",
        "    color_name1 = random.choice(list(colors.keys()))\n",
        "    color_name2 = random.choice(list(colors.keys()))\n",
        "    color1 = colors[color_name1]\n",
        "    color2 = colors[color_name2]\n",
        "    cmap_name = color_name1 + '/' + color_name2\n",
        "    color_choices = [color1, color2]\n",
        "    for n_bin in range(n_bins):\n",
        "      cmap = LinearSegmentedColormap.from_list(cmap_name, color_choices, N=n_bin)\n",
        "    return cmap, color_name1, color_name2"
      ],
      "metadata": {
        "id": "b0fUZUi6hfNn"
      },
      "execution_count": 1,
      "outputs": []
    },
    {
      "cell_type": "markdown",
      "source": [
        "Phyllotaxis with two custom colors."
      ],
      "metadata": {
        "id": "RM0VZv3Uzdxz"
      }
    },
    {
      "cell_type": "code",
      "source": [
        "import matplotlib.pyplot as plt\n",
        "import numpy as np\n",
        "\n",
        "\n",
        "def phyllotaxis_spiral(n, angle=137.5, save_path=None, background_color='black', color='white'):\n",
        "    \"\"\"Render a phyllotaxis spiral with n points.\"\"\"\n",
        "    golden_angle = np.deg2rad(angle)\n",
        "    theta = np.arange(0, n * golden_angle, golden_angle)\n",
        "    r = np.sqrt(theta)\n",
        "    x = r * np.cos(theta)\n",
        "    y = r * np.sin(theta)\n",
        "\n",
        "    # Extract the colormap and the two colors\n",
        "    cmap = colormap[0]\n",
        "\n",
        "    #plt.figure(figsize=(8, 8))\n",
        "    plt.scatter(x, y, c='blue', s=10)\n",
        "    plt.axis('equal')\n",
        "    plt.axis('off')\n",
        "    # Save the plot if save_path is provided\n",
        "    if save_path:\n",
        "        plt.savefig(save_path, transparent=True, facecolor=background_color)\n",
        "\n",
        "    plt.close()\n",
        "\n",
        "# Example usage:\n",
        "cmap = make_colormap(4)\n",
        "num_points = 1000\n",
        "i = 0\n",
        "save_path = f'phyllotaxis{i}.png'\n",
        "phyllotaxis_spiral(num_points, 137.5, save_path=save_path, color=cmap[1], background_color=cmap[2])\n"
      ],
      "metadata": {
        "id": "S8_m2MDDrLqL"
      },
      "execution_count": 47,
      "outputs": []
    },
    {
      "cell_type": "markdown",
      "source": [
        "Phyllotaxis with predefined [colormap](https://matplotlib.org/stable/users/explain/colors/colormap-manipulation.html#sphx-glr-users-explain-colors-colormap-manipulation-py)."
      ],
      "metadata": {
        "id": "XhCj71hHz3xj"
      }
    },
    {
      "cell_type": "code",
      "source": [
        "import matplotlib.pyplot as plt\n",
        "import numpy as np\n",
        "colormap = make_colormap(4)\n",
        "def phyllotaxis_spiral(n, angle=137.5, save_path=None, background_color='black', colormap='viridis'):\n",
        "    \"\"\"Render a phyllotaxis spiral with n points.\"\"\"\n",
        "    golden_angle = np.deg2rad(angle)\n",
        "    theta = np.arange(0, n * golden_angle, golden_angle)\n",
        "    r = np.sqrt(theta)\n",
        "    x = r * np.cos(theta)\n",
        "    y = r * np.sin(theta)\n",
        "\n",
        "    # Create a custom colormap\n",
        "    cmap = plt.get_cmap(colormap)\n",
        "    colors = cmap(np.linspace(0, 1, n))\n",
        "\n",
        "    plt.figure(figsize=(8, 8))\n",
        "    plt.scatter(x, y, c=colors, s=150)\n",
        "    plt.gca().set_facecolor(background_color)\n",
        "    plt.axis('equal')\n",
        "    plt.axis('off')\n",
        "    #plt.show()\n",
        "    # Save the plot if save_path is provided\n",
        "    if save_path:\n",
        "        plt.savefig(save_path, transparent=True, facecolor='black')\n",
        "\n",
        "    plt.close()\n",
        "\n",
        "# Example usage:\n",
        "num_points = 450\n",
        "i = 0\n",
        "save_path = f'rainbow_phyllotaxis{i}.png'\n",
        "phyllotaxis_spiral(num_points, 137.5, save_path=save_path, background_color='black', colormap='viridis')"
      ],
      "metadata": {
        "id": "-8f6eNCts3Uc"
      },
      "execution_count": 64,
      "outputs": []
    },
    {
      "cell_type": "markdown",
      "source": [
        "We can get a sample of colors from a colormap."
      ],
      "metadata": {
        "id": "qZE_5qUC5NgJ"
      }
    },
    {
      "cell_type": "code",
      "source": [
        "import matplotlib.pyplot as plt\n",
        "import numpy as np\n",
        "\n",
        "import matplotlib as mpl\n",
        "from matplotlib.colors import LinearSegmentedColormap, ListedColormap\n",
        "\n",
        "viridis = mpl.colormaps['viridis'].resampled(8)"
      ],
      "metadata": {
        "id": "2DzyOFf25Mgu"
      },
      "execution_count": null,
      "outputs": []
    }
  ]
}