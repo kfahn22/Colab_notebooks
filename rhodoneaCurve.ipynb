{
  "nbformat": 4,
  "nbformat_minor": 0,
  "metadata": {
    "colab": {
      "provenance": [],
      "authorship_tag": "ABX9TyPSjTA4wrD7w7+SvBNZO01J",
      "include_colab_link": true
    },
    "kernelspec": {
      "name": "python3",
      "display_name": "Python 3"
    },
    "language_info": {
      "name": "python"
    }
  },
  "cells": [
    {
      "cell_type": "markdown",
      "metadata": {
        "id": "view-in-github",
        "colab_type": "text"
      },
      "source": [
        "<a href=\"https://colab.research.google.com/github/kfahn22/Colab_notebooks/blob/main/rhodoneaCurve.ipynb\" target=\"_parent\"><img src=\"https://colab.research.google.com/assets/colab-badge.svg\" alt=\"Open In Colab\"/></a>"
      ]
    },
    {
      "cell_type": "markdown",
      "source": [
        "https://www.geeksforgeeks.org/rhodonea-curves-and-maurer-rose-in-python/"
      ],
      "metadata": {
        "id": "AYkWYGYuEExi"
      }
    },
    {
      "cell_type": "code",
      "source": [
        "import random\n",
        "import matplotlib.colors as mcolors\n",
        "\n",
        "# Define new colormap\n",
        "import matplotlib.pyplot as plt\n",
        "import numpy as np\n",
        "\n",
        "#import matplotlib as mpl\n",
        "from matplotlib.colors import LinearSegmentedColormap\n",
        "\n",
        "def make_colormap(n_bins):\n",
        "    \"\"\"Return a LinearSegmentedColormap\n",
        "    color1 and color2 are the two colors that are interpolated between\n",
        "    n_bins: Discretizes the interpolation into bins\n",
        "    \"\"\"\n",
        "    colors = mcolors.CSS4_COLORS\n",
        "    color_name1 = random.choice(list(colors.keys()))\n",
        "    color_name2 = random.choice(list(colors.keys()))\n",
        "    color1 = colors[color_name1]\n",
        "    color2 = colors[color_name2]\n",
        "    cmap_name = color_name1 + '/' + color_name2\n",
        "    color_choices = [color1, color2]\n",
        "    for n_bin in range(n_bins):\n",
        "      cmap = LinearSegmentedColormap.from_list(cmap_name, color_choices, N=n_bin)\n",
        "    return cmap, color_name1, color_name2"
      ],
      "metadata": {
        "id": "ZYwsN9P0QQV0"
      },
      "execution_count": 1,
      "outputs": []
    },
    {
      "cell_type": "code",
      "execution_count": null,
      "metadata": {
        "colab": {
          "base_uri": "https://localhost:8080/",
          "height": 225
        },
        "id": "l1tQ7Q_cDR5u",
        "outputId": "e4a42971-54f8-4864-8853-7455c5f1ba66"
      },
      "outputs": [
        {
          "output_type": "error",
          "ename": "NameError",
          "evalue": "name 'x' is not defined",
          "traceback": [
            "\u001b[0;31m---------------------------------------------------------------------------\u001b[0m",
            "\u001b[0;31mNameError\u001b[0m                                 Traceback (most recent call last)",
            "\u001b[0;32m<ipython-input-10-f4d09c436149>\u001b[0m in \u001b[0;36m<cell line: 20>\u001b[0;34m()\u001b[0m\n\u001b[1;32m     18\u001b[0m     \u001b[0;32mreturn\u001b[0m \u001b[0mpoints\u001b[0m\u001b[0;34m\u001b[0m\u001b[0;34m\u001b[0m\u001b[0m\n\u001b[1;32m     19\u001b[0m \u001b[0;34m\u001b[0m\u001b[0m\n\u001b[0;32m---> 20\u001b[0;31m \u001b[0mplt\u001b[0m\u001b[0;34m.\u001b[0m\u001b[0mplot\u001b[0m\u001b[0;34m(\u001b[0m\u001b[0mpoints\u001b[0m\u001b[0;34m,\u001b[0m \u001b[0;34m(\u001b[0m\u001b[0mwidth\u001b[0m \u001b[0;34m/\u001b[0m \u001b[0;36m2\u001b[0m \u001b[0;34m+\u001b[0m \u001b[0mx\u001b[0m\u001b[0;34m,\u001b[0m \u001b[0mheight\u001b[0m \u001b[0;34m/\u001b[0m \u001b[0;36m2\u001b[0m \u001b[0;34m+\u001b[0m \u001b[0my\u001b[0m\u001b[0;34m)\u001b[0m\u001b[0;34m,\u001b[0m \u001b[0mmarker\u001b[0m\u001b[0;34m=\u001b[0m\u001b[0;34m'o'\u001b[0m\u001b[0;34m)\u001b[0m\u001b[0;34m\u001b[0m\u001b[0;34m\u001b[0m\u001b[0m\n\u001b[0m\u001b[1;32m     21\u001b[0m     \u001b[0;31m# Draws a set of line segments connected by set of vertices points\u001b[0m\u001b[0;34m\u001b[0m\u001b[0;34m\u001b[0m\u001b[0m\n\u001b[1;32m     22\u001b[0m     \u001b[0;31m# Also don't close the path and draw it black and set the width to 5\u001b[0m\u001b[0;34m\u001b[0m\u001b[0;34m\u001b[0m\u001b[0m\n",
            "\u001b[0;31mNameError\u001b[0m: name 'x' is not defined"
          ]
        }
      ],
      "source": [
        "width = 800\n",
        "height = 800\n",
        "import numpy as np\n",
        "from math import sin, cos, radians\n",
        "points = []\n",
        "\n",
        "# Draws a rose with n petals and of radius size about `size`\n",
        "def drawRhodoneaCurve(n, size):\n",
        "    for i in range(0, 361):\n",
        "        # The equation of a rhodonea curve\n",
        "        r = size * sin(radians(n * i))\n",
        "\n",
        "        # Converting to cartesian co-ordinates\n",
        "        x = r * cos(radians(i))\n",
        "        y = r * sin(radians(i))\n",
        "\n",
        "        list.append(points, (width / 2 + x, height / 2 + y))\n",
        "    return points\n",
        "\n",
        "plt.plot(points, (width / 2 + x, height / 2 + y), marker='o')\n",
        "    # Draws a set of line segments connected by set of vertices points\n",
        "    # Also don't close the path and draw it black and set the width to 5\n",
        "\n",
        "def drawPattern():\n",
        "    # Try changing these values to what you want\n",
        "    drawRhodoneaCurve(12, 200)"
      ]
    },
    {
      "cell_type": "code",
      "source": [
        "import numpy as np\n",
        "import matplotlib.pyplot as plt\n",
        "from math import sin, cos, radians\n",
        "\n",
        "colormap = make_colormap(4)\n",
        "def rhodonea_curve(k, n):\n",
        "    theta = np.linspace(0, 4*np.pi, 1000)  # Define theta values from 0 to 2*pi\n",
        "    r = np.cos(k/n * theta)               # Calculate the radius values using the Rhodonea curve equation\n",
        "    x = r * np.cos(theta)                 # Convert polar coordinates to Cartesian coordinates for x\n",
        "    y = r * np.sin(theta)                 # Convert polar coordinates to Cartesian coordinates for y\n",
        "\n",
        "    plt.figure(figsize=(8, 8))\n",
        "    #plt.plot(x, y, color='blue')\n",
        "    plt.scatter(x, y, color=colormap[1], lw =2)\n",
        "\n",
        "    plt.axis('equal')  # Equal aspect ratio for x and y axes\n",
        "    plt.axis('off')\n",
        "\n",
        "    # Save the plot if save_path is provided\n",
        "    save_path = 'rhodonea_curve.png'\n",
        "  # Save the plot if save_path is provided\n",
        "    if save_path:\n",
        "        plt.savefig(save_path, transparent=True, facecolor=colormap[2])\n",
        "        print(f\"Plot saved to {save_path}\")\n",
        "\n",
        "   #plt.show()\n",
        "    plt.close()\n",
        "\n",
        "# Example usage:\n",
        "rhodonea_curve(12, 36)\n"
      ],
      "metadata": {
        "colab": {
          "base_uri": "https://localhost:8080/"
        },
        "id": "xT7LQNRWLEob",
        "outputId": "f5cfe1b2-86ab-41b0-bd7c-f3d2e6cddf99"
      },
      "execution_count": 6,
      "outputs": [
        {
          "output_type": "stream",
          "name": "stdout",
          "text": [
            "Plot saved to rhodonea_curve.png\n"
          ]
        }
      ]
    },
    {
      "cell_type": "code",
      "source": [
        "import matplotlib.pyplot as plt\n",
        "import numpy as np\n",
        "from math import sin, cos, radians\n",
        "colormap = make_colormap(4)\n",
        "\n",
        "# Draws a maurer rose with value n and d it's size about `size`\n",
        "def drawMaurerRose(n, d, size, save_path, colormap = colormap):\n",
        "    points =[]\n",
        "    for i in range(0, 361):\n",
        "        # The equation of a maurer rose\n",
        "        k = i * d\n",
        "        r = size * sin(radians(n * k))\n",
        "\n",
        "        # Converting to cartesian co-ordinates\n",
        "        x = r * cos(radians(k))\n",
        "        y = r * sin(radians(k))\n",
        "\n",
        "        #list.append(points, (width / 2 + x, height / 2 + y))\n",
        "\n",
        "        plt.figure(figsize=(5, 4))\n",
        "        # Plot the spiral with colormap\n",
        "        plt.scatter(x, y, color=colormap[1], lw =2)\n",
        "        plt.axis('off')\n",
        "\n",
        "    # Save the plot if save_path is provided\n",
        "    if save_path:\n",
        "        plt.savefig(save_path, transparent=True, facecolor=c2)\n",
        "        print(f\"Plot saved to {save_path}\")\n",
        "\n",
        "    #plt.show()\n",
        "    plt.close()\n",
        "\n",
        "    # Draws a set of line segments connected by set of vertices points\n",
        "    # Also don't close the path and draw it black and set the width to 5\n",
        "    #pygame.draw.lines(screen, (0, 0, 0), False, points, 5)\n",
        "\n",
        "def drawPattern():\n",
        "    # Try changing these values to what you want\n",
        "    drawMaurerRose(6, 79, 200)"
      ],
      "metadata": {
        "id": "koqtYe5BDupy"
      },
      "execution_count": 8,
      "outputs": []
    },
    {
      "cell_type": "code",
      "source": [
        "# Generate a random colormap\n",
        "colormap = make_colormap(4)\n",
        "# Extract the colormap and the two colors\n",
        "cmap = colormap[0]\n",
        "c1 = colormap[1]\n",
        "c2 = colormap[2]\n",
        "\n",
        "save_path = 'mauer_rose.png'\n",
        "drawMaurerRose(6, 79, 200, save_path, colormap=colormap)\n",
        "drawPattern()"
      ],
      "metadata": {
        "id": "L0N2J40GH5dK"
      },
      "execution_count": null,
      "outputs": []
    },
    {
      "cell_type": "code",
      "source": [
        "import numpy as np\n",
        "import matplotlib.pyplot as plt\n",
        "from math import sin, cos, radians\n",
        "colormap = make_colormap(4)\n",
        "\n",
        "def mauer_rose(p, q, num_points=4000):\n",
        "    \"\"\"Render a Mauer rose with given parameters p and q.\"\"\"\n",
        "    theta = np.linspace(0, 2*np.pi, num_points)\n",
        "    r = np.sin(p*theta)**q\n",
        "    x = r * np.cos(theta)\n",
        "    y = r * np.sin(theta)\n",
        "\n",
        "    plt.figure(figsize=(8, 8))\n",
        "    plt.scatter(x, y, color=colormap[1], lw =1)\n",
        "    #plt.title(f'Mauer Rose: p={p}, q={q}')\n",
        "    plt.axis('equal')\n",
        "    plt.grid(True)\n",
        "    plt.axis('off')\n",
        "\n",
        "    # Save the plot if save_path is provided\n",
        "    save_path = 'mauer_rose.png'\n",
        "    # Save the plot if save_path is provided\n",
        "    if save_path:\n",
        "        plt.savefig(save_path, transparent=True, facecolor=colormap[2])\n",
        "        print(f\"Plot saved to {save_path}\")\n",
        "\n",
        "    #plt.show()\n",
        "    plt.close()\n",
        "\n",
        "# Example usage:\n",
        "mauer_rose(10, 8)  # You can adjust p and q parameters here\n"
      ],
      "metadata": {
        "colab": {
          "base_uri": "https://localhost:8080/"
        },
        "id": "6fnqjoOpTYfD",
        "outputId": "77cc3ce6-de02-4bfb-9e15-2e6b85306e77"
      },
      "execution_count": 14,
      "outputs": [
        {
          "output_type": "stream",
          "name": "stdout",
          "text": [
            "Plot saved to mauer_rose.png\n"
          ]
        }
      ]
    }
  ]
}